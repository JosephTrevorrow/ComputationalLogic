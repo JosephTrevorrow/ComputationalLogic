{
  "cells": [
    {
      "cell_type": "markdown",
      "metadata": {
        "id": "i0vSCAwPAleW"
      },
      "source": [
        "## Prolexa Extended - Computational Logic coursework 2024\n",
        "This notebook allows for the extended version of Prolexa, developed for the 2024 Computational Logic coursework. It takes heavy influence from the demo_notebook found in this repository, from the original Computational Logic repo\n",
        "\n",
        "The structure is as follows: \n",
        "- Installing and instantiate prolexa\n",
        "- Running test cases found in report\n",
        "- Interactive shell"
      ]
    },
    {
      "cell_type": "markdown",
      "metadata": {
        "id": "hij-_4uHAzIj"
      },
      "source": [
        "### Install SWI-Prolog\n",
        "\n",
        "Installing non-python dependeincies can be achieved via '!apt-get'"
      ]
    },
    {
      "cell_type": "code",
      "execution_count": 1,
      "metadata": {
        "colab": {
          "base_uri": "https://localhost:8080/"
        },
        "id": "HDY7hKs490UH",
        "outputId": "52e947d8-f571-406f-f97d-457ec077a85c"
      },
      "outputs": [
        {
          "name": "stdout",
          "output_type": "stream",
          "text": [
            "E: Could not open lock file /var/lib/dpkg/lock-frontend - open (13: Permission denied)\n",
            "E: Unable to acquire the dpkg frontend lock (/var/lib/dpkg/lock-frontend), are you root?\n"
          ]
        }
      ],
      "source": [
        "!apt-get install swi-prolog -qqq > /dev/null"
      ]
    },
    {
      "cell_type": "markdown",
      "metadata": {
        "id": "URGBePflAi8a"
      },
      "source": [
        "### Install Prolexa-Plus\n",
        "\n",
        "Install the Prolexa-plus branch directly from Github via pip. Note that once you have forked the Github repo and made changes you will have to change this link to reference your own repo. "
      ]
    },
    {
      "cell_type": "code",
      "execution_count": 2,
      "metadata": {
        "colab": {
          "base_uri": "https://localhost:8080/"
        },
        "id": "LGMiAYLm77DC",
        "outputId": "66f431a2-3c4b-4735-c898-b54bda8eeaaa"
      },
      "outputs": [
        {
          "name": "stdout",
          "output_type": "stream",
          "text": [
            "yes: standard output: Broken pipe\n"
          ]
        }
      ],
      "source": [
        "!yes | pip install git+https://github.com/JosephTrevorrow/ComputationalLogic/ -qqq > /dev/null"
      ]
    },
    {
      "cell_type": "markdown",
      "metadata": {
        "id": "4Q1TuvlXBFpA"
      },
      "source": [
        "### Instantiate Prolexa \n"
      ]
    },
    {
      "cell_type": "code",
      "execution_count": 3,
      "metadata": {
        "colab": {
          "base_uri": "https://localhost:8080/"
        },
        "id": "un81VxmqzUMx",
        "outputId": "77fe5b08-4c5f-4954-83b8-132d31ae5a50"
      },
      "outputs": [
        {
          "name": "stdout",
          "output_type": "stream",
          "text": [
            "2024-05-12 10:55:10,585 SequenceTagger predicts: Dictionary with 53 tags: <unk>, O, UH, ,, VBD, PRP, VB, PRP$, NN, RB, ., DT, JJ, VBP, VBG, IN, CD, NNS, NNP, WRB, VBZ, WDT, CC, TO, MD, VBN, WP, :, RP, EX, JJR, FW, XX, HYPH, POS, RBR, JJS, PDT, NNPS, RBS, AFX, WP$, -LRB-, -RRB-, ``, '', LS, $, SYM, ADD\n"
          ]
        }
      ],
      "source": [
        "from pyswip import Prolog\n",
        "import prolexa.meta_grammar as meta\n",
        "\n",
        "pl = Prolog()\n",
        "meta.reset_grammar()\n",
        "meta.initialise_prolexa(pl)"
      ]
    },
    {
      "cell_type": "markdown",
      "metadata": {
        "id": "UsWtwSz2BX9l"
      },
      "source": [
        "### Input Method 1\n",
        " Built using Google Colab's Input Attributes. Here the test cases from report will be printed in full\n",
        "\n",
        "#### Negation"
      ]
    },
    {
      "cell_type": "code",
      "execution_count": 6,
      "metadata": {
        "colab": {
          "base_uri": "https://localhost:8080/"
        },
        "id": "J-_HAtkIm19i",
        "outputId": "724c7f39-2d9a-472e-f8b6-1f3a3d70a0df"
      },
      "outputs": [
        {
          "name": "stdout",
          "output_type": "stream",
          "text": [
            "Joseph is not happy\n",
            "I will remember that Joseph is not happy\n",
            "spill the beans\n",
            "every human is mortal. peter is human. joseph is human. some humans are happy. joseph is not happy\n",
            "explain why joseph is not happy\n",
            "joseph is not happy; therefore joseph is not happy\n"
          ]
        },
        {
          "name": "stderr",
          "output_type": "stream",
          "text": [
            "*** utterance(Joseph is not happy)\n",
            "*** rule([(not(happy(joseph)):-true)])\n",
            "*** answer(I will remember that Joseph is not happy)\n",
            "*** answer(I heard you say,  Joseph is not happy , could you rephrase that please?)\n",
            "*** utterance(spill the beans)\n",
            "*** goal(all_rules(_30994))\n",
            "*** answer(every human is mortal. peter is human. joseph is human. some humans are happy. joseph is not happy)\n",
            "*** utterance(explain why joseph is not happy)\n",
            "*** goal(explain_question(not(happy(joseph)),_40072,_39814))\n",
            "*** answer(joseph is not happy; therefore joseph is not happy)\n"
          ]
        }
      ],
      "source": [
        "#@title Prolexa Interact\n",
        "input = 'Joseph is not happy'  #@param {type:\"string\"}\n",
        "print(input)\n",
        "first_answer = meta.standardised_query(pl, input)[0]['Output']\n",
        "print(first_answer)\n",
        "input = 'spill the beans'  #@param {type:\"string\"}\n",
        "print(input)\n",
        "first_answer = meta.standardised_query(pl, input)[0]['Output']\n",
        "print(first_answer)\n",
        "input = 'explain why joseph is not happy'  #@param {type:\"string\"}\n",
        "print(input)\n",
        "first_answer = meta.standardised_query(pl, input)[0]['Output']\n",
        "print(first_answer)"
      ]
    },
    {
      "cell_type": "code",
      "execution_count": 7,
      "metadata": {},
      "outputs": [
        {
          "name": "stdout",
          "output_type": "stream",
          "text": [
            "every teacher is happy\n",
            "I will remember that every teacher is happy\n",
            "joseph is not happy\n",
            "I already knew that joseph is not happy\n",
            "explain why joseph is not a teacher\n",
            "joseph is not happy; every teacher is happy; therefore joseph is not a teacher\n",
            "spill the beans\n",
            "every human is mortal. peter is human. joseph is human. some humans are happy. joseph is not happy. every teacher is happy\n"
          ]
        },
        {
          "name": "stderr",
          "output_type": "stream",
          "text": [
            "*** utterance(every teacher is happy)\n",
            "*** rule([(happy(_48820):-teacher(_48820))])\n",
            "*** answer(I will remember that every teacher is happy)\n",
            "*** rule([(happy(_48844):-teacher(_48844))])\n",
            "*** answer(I already knew that every teacher is happy)\n",
            "*** answer(I heard you say,  every teacher is happy , could you rephrase that please?)\n",
            "*** utterance(joseph is not happy)\n",
            "*** rule([(not(happy(joseph)):-true)])\n",
            "*** answer(I already knew that joseph is not happy)\n",
            "*** answer(I heard you say,  joseph is not happy , could you rephrase that please?)\n",
            "*** utterance(explain why joseph is not a teacher)\n",
            "*** goal(explain_question(not(teacher(joseph)),_4196,_3904))\n",
            "*** answer(joseph is not happy; every teacher is happy; therefore joseph is not a teacher)\n",
            "*** utterance(spill the beans)\n",
            "*** goal(all_rules(_12706))\n",
            "*** answer(every human is mortal. peter is human. joseph is human. some humans are happy. joseph is not happy. every teacher is happy)\n"
          ]
        }
      ],
      "source": [
        "#@title Prolexa Interact\n",
        "input = 'every teacher is happy'  #@param {type:\"string\"}\n",
        "print(input)\n",
        "first_answer = meta.standardised_query(pl, input)[0]['Output']\n",
        "print(first_answer)\n",
        "input = 'joseph is not happy'  #@param {type:\"string\"}\n",
        "print(input)\n",
        "first_answer = meta.standardised_query(pl, input)[0]['Output']\n",
        "print(first_answer)\n",
        "input = 'explain why joseph is not a teacher'  #@param {type:\"string\"}\n",
        "print(input)\n",
        "first_answer = meta.standardised_query(pl, input)[0]['Output']\n",
        "print(first_answer)\n",
        "input = 'spill the beans'  #@param {type:\"string\"}\n",
        "print(input)\n",
        "first_answer = meta.standardised_query(pl, input)[0]['Output']\n",
        "print(first_answer)"
      ]
    },
    {
      "cell_type": "markdown",
      "metadata": {},
      "source": [
        "#### Existential Quantification"
      ]
    },
    {
      "cell_type": "code",
      "execution_count": 8,
      "metadata": {},
      "outputs": [
        {
          "name": "stdout",
          "output_type": "stream",
          "text": [
            "are some humans happy\n",
            "b'some humans are happy'\n",
            "some humans are happy\n",
            "I will remember that some humans are happy\n",
            "are some humans happy\n",
            "b'some humans are happy'\n",
            "explain why some humans happy\n",
            "I heard you say,  explain why some humans happy , could you rephrase that please?\n",
            "spill the beans\n",
            "every human is mortal. peter is human. joseph is human. some humans are happy. joseph is not happy. every teacher is happy. some humans are happy. some humans are happy. some humans are happy\n"
          ]
        },
        {
          "name": "stderr",
          "output_type": "stream",
          "text": [
            "*** utterance(are some humans happy)\n",
            "*** query((human(sk),happy(sk)))\n",
            "*** answer(some humans are happy)\n",
            "*** utterance(some humans are happy)\n",
            "*** rule([([human(sk),happy(sk)]:-true)])\n",
            "*** answer(I will remember that some humans are happy)\n",
            "*** rule([([human(sk),happy(sk)]:-true)])\n",
            "*** answer(I already knew that some humans are happy)\n",
            "*** rule([(human(sk):-true),(happy(sk):-true)])\n",
            "*** answer(I will remember that some humans are happy)\n",
            "*** rule([(human(sk):-true),(happy(sk):-true)])\n",
            "*** answer(I will remember that some humans are happy)\n",
            "*** answer(I heard you say,  some humans are happy , could you rephrase that please?)\n",
            "*** utterance(are some humans happy)\n",
            "*** query((human(sk),happy(sk)))\n",
            "*** answer(some humans are happy)\n",
            "*** utterance(explain why some humans happy)\n",
            "*** answer(I heard you say,  explain why some humans happy , could you rephrase that please?)\n",
            "*** utterance(spill the beans)\n",
            "*** goal(all_rules(_56766))\n",
            "*** answer(every human is mortal. peter is human. joseph is human. some humans are happy. joseph is not happy. every teacher is happy. some humans are happy. some humans are happy. some humans are happy)\n"
          ]
        }
      ],
      "source": [
        "#@title Prolexa Interact\n",
        "input = 'are some humans happy'  #@param {type:\"string\"}\n",
        "print(input)\n",
        "first_answer = meta.standardised_query(pl, input)[0]['Output']\n",
        "print(first_answer)\n",
        "input = 'some humans are happy'  #@param {type:\"string\"}\n",
        "print(input)\n",
        "first_answer = meta.standardised_query(pl, input)[0]['Output']\n",
        "print(first_answer)\n",
        "input = 'are some humans happy'  #@param {type:\"string\"}\n",
        "print(input)\n",
        "first_answer = meta.standardised_query(pl, input)[0]['Output']\n",
        "print(first_answer)\n",
        "input = 'explain why some humans are happy'  #@param {type:\"string\"}\n",
        "print(input)\n",
        "first_answer = meta.standardised_query(pl, input)[0]['Output']\n",
        "print(first_answer)\n",
        "input = 'spill the beans'  #@param {type:\"string\"}\n",
        "print(input)\n",
        "first_answer = meta.standardised_query(pl, input)[0]['Output']\n",
        "print(first_answer)"
      ]
    },
    {
      "cell_type": "code",
      "execution_count": null,
      "metadata": {},
      "outputs": [],
      "source": [
        "#@title Prolexa Interact\n",
        "input = 'spill the beans'  #@param {type:\"string\"}\n",
        "print(input)\n",
        "first_answer = meta.standardised_query(pl, input)[0]['Output']\n",
        "print(first_answer)\n",
        "input = 'do some humans fly'  #@param {type:\"string\"}\n",
        "print(input)\n",
        "first_answer = meta.standardised_query(pl, input)[0]['Output']\n",
        "print(first_answer)\n",
        "input = 'explain why some humans fly'  #@param {type:\"string\"}\n",
        "print(input)\n",
        "first_answer = meta.standardised_query(pl, input)[0]['Output']\n",
        "print(first_answer)"
      ]
    },
    {
      "cell_type": "code",
      "execution_count": null,
      "metadata": {},
      "outputs": [],
      "source": [
        "#@title Prolexa Interact\n",
        "input = 'every genius wins'  #@param {type:\"string\"}\n",
        "print(input)\n",
        "first_answer = meta.standardised_query(pl, input)[0]['Output']\n",
        "print(first_answer)\n",
        "input = 'some humans are geniuses'  #@param {type:\"string\"}\n",
        "print(input)\n",
        "first_answer = meta.standardised_query(pl, input)[0]['Output']\n",
        "print(first_answer)\n",
        "input = 'do some humans win'  #@param {type:\"string\"}\n",
        "print(input)\n",
        "first_answer = meta.standardised_query(pl, input)[0]['Output']\n",
        "print(first_answer)\n",
        "input = 'explain why some humans win'  #@param {type:\"string\"}\n",
        "print(input)\n",
        "first_answer = meta.standardised_query(pl, input)[0]['Output']\n",
        "print(first_answer)\n",
        "input = 'spill the beans'  #@param {type:\"string\"}\n",
        "print(input)\n",
        "first_answer = meta.standardised_query(pl, input)[0]['Output']\n",
        "print(first_answer)"
      ]
    },
    {
      "cell_type": "markdown",
      "metadata": {
        "id": "rpuQmGY7GoFo"
      },
      "source": [
        "### Interactive Shell\n",
        " This method of input is built using a MVP iPywidget and can be used as an interactive shell"
      ]
    },
    {
      "cell_type": "code",
      "execution_count": 5,
      "metadata": {
        "colab": {
          "base_uri": "https://localhost:8080/",
          "height": 140,
          "referenced_widgets": [
            "8811264ce4e74e13830181ed911d0aad",
            "b047630437e845c1887c418669785c5c",
            "9b6c304e9f2644baadd7c52699f97f4b",
            "7c763c143f9043b39a5af860c2d79d23",
            "f66f034025314913a5bac66234e33df2",
            "d82d12f6a0a249e5a5750af18cbc020e",
            "baf12de9a3644fc1a7fdd32395a9efbd",
            "5c965e705b494f7e8cdb6d02cc5a6553",
            "d35477f4aa2d46009151e655c32ef9b2",
            "866eb75519134b6d8298aeda3b02c808"
          ]
        },
        "id": "Md1u8zJv_Qc3",
        "outputId": "cba62736-2838-4556-c61f-c3e0bbfb97d9"
      },
      "outputs": [
        {
          "data": {
            "application/vnd.jupyter.widget-view+json": {
              "model_id": "b972992c4963469fa4e97baf3ba3ce2e",
              "version_major": 2,
              "version_minor": 0
            },
            "text/plain": [
              "VBox(children=(Textarea(value='tell me about Peter', description='Question:', layout=Layout(height='50px', wid…"
            ]
          },
          "execution_count": 5,
          "metadata": {},
          "output_type": "execute_result"
        },
        {
          "name": "stderr",
          "output_type": "stream",
          "text": [
            "*** utterance(tell me about Peter)\n",
            "*** goal(all_answers(peter,_4560))\n",
            "*** answer(peter is human. peter is mortal. peter is human)\n",
            "*** utterance(tell me about Joseph)\n",
            "*** goal(all_answers(joseph,_13372))\n",
            "*** answer(joseph is human. joseph is mortal. joseph is human)\n"
          ]
        }
      ],
      "source": [
        "import ipywidgets as widgets\n",
        "from ipywidgets import Layout\n",
        "from IPython.display import display, HTML\n",
        "\n",
        "w_textbox = widgets.Textarea(\n",
        "    value = 'tell me about Peter',\n",
        "    placeholder='Input text',\n",
        "    description='Question:',\n",
        "    layout=Layout(width='900px', height='50px')\n",
        ")\n",
        "w_button = widgets.Button(\n",
        "    description='Ask',\n",
        "    button_style='info',\n",
        "    layout=Layout(margin='4px 0px 0px 90px')\n",
        ")\n",
        "w_out = widgets.Output(layout={'border': '1px solid black'})\n",
        "\n",
        "\n",
        "def main(obj):\n",
        "    query = w_textbox.value.strip()\n",
        "    answer = meta.standardised_query(pl, query)[0]['Output']\n",
        "    with w_out:\n",
        "        print('?', query)\n",
        "        print(answer)\n",
        "\n",
        "# bind event handler to UI control\n",
        "w_button.on_click(main)\n",
        "# render UI controls in a vertical box\n",
        "widgets.VBox([w_textbox, w_button, w_out])"
      ]
    }
  ],
  "metadata": {
    "colab": {
      "collapsed_sections": [],
      "name": "Prolexa Plus Demo Notebook.ipynb",
      "provenance": []
    },
    "kernelspec": {
      "display_name": "Python 3",
      "name": "python3"
    },
    "language_info": {
      "codemirror_mode": {
        "name": "ipython",
        "version": 3
      },
      "file_extension": ".py",
      "mimetype": "text/x-python",
      "name": "python",
      "nbconvert_exporter": "python",
      "pygments_lexer": "ipython3",
      "version": "3.8.19"
    },
    "widgets": {
      "application/vnd.jupyter.widget-state+json": {
        "5c965e705b494f7e8cdb6d02cc5a6553": {
          "model_module": "@jupyter-widgets/controls",
          "model_module_version": "1.5.0",
          "model_name": "ButtonStyleModel",
          "state": {
            "_model_module": "@jupyter-widgets/controls",
            "_model_module_version": "1.5.0",
            "_model_name": "ButtonStyleModel",
            "_view_count": null,
            "_view_module": "@jupyter-widgets/base",
            "_view_module_version": "1.2.0",
            "_view_name": "StyleView",
            "button_color": null,
            "font_weight": ""
          }
        },
        "7c763c143f9043b39a5af860c2d79d23": {
          "model_module": "@jupyter-widgets/controls",
          "model_module_version": "1.5.0",
          "model_name": "ButtonModel",
          "state": {
            "_dom_classes": [],
            "_model_module": "@jupyter-widgets/controls",
            "_model_module_version": "1.5.0",
            "_model_name": "ButtonModel",
            "_view_count": null,
            "_view_module": "@jupyter-widgets/controls",
            "_view_module_version": "1.5.0",
            "_view_name": "ButtonView",
            "button_style": "info",
            "description": "Ask",
            "disabled": false,
            "icon": "",
            "layout": "IPY_MODEL_d35477f4aa2d46009151e655c32ef9b2",
            "style": "IPY_MODEL_5c965e705b494f7e8cdb6d02cc5a6553",
            "tooltip": ""
          }
        },
        "866eb75519134b6d8298aeda3b02c808": {
          "model_module": "@jupyter-widgets/base",
          "model_module_version": "1.2.0",
          "model_name": "LayoutModel",
          "state": {
            "_model_module": "@jupyter-widgets/base",
            "_model_module_version": "1.2.0",
            "_model_name": "LayoutModel",
            "_view_count": null,
            "_view_module": "@jupyter-widgets/base",
            "_view_module_version": "1.2.0",
            "_view_name": "LayoutView",
            "align_content": null,
            "align_items": null,
            "align_self": null,
            "border": "1px solid black",
            "bottom": null,
            "display": null,
            "flex": null,
            "flex_flow": null,
            "grid_area": null,
            "grid_auto_columns": null,
            "grid_auto_flow": null,
            "grid_auto_rows": null,
            "grid_column": null,
            "grid_gap": null,
            "grid_row": null,
            "grid_template_areas": null,
            "grid_template_columns": null,
            "grid_template_rows": null,
            "height": null,
            "justify_content": null,
            "justify_items": null,
            "left": null,
            "margin": null,
            "max_height": null,
            "max_width": null,
            "min_height": null,
            "min_width": null,
            "object_fit": null,
            "object_position": null,
            "order": null,
            "overflow": null,
            "overflow_x": null,
            "overflow_y": null,
            "padding": null,
            "right": null,
            "top": null,
            "visibility": null,
            "width": null
          }
        },
        "8811264ce4e74e13830181ed911d0aad": {
          "model_module": "@jupyter-widgets/controls",
          "model_module_version": "1.5.0",
          "model_name": "VBoxModel",
          "state": {
            "_dom_classes": [],
            "_model_module": "@jupyter-widgets/controls",
            "_model_module_version": "1.5.0",
            "_model_name": "VBoxModel",
            "_view_count": null,
            "_view_module": "@jupyter-widgets/controls",
            "_view_module_version": "1.5.0",
            "_view_name": "VBoxView",
            "box_style": "",
            "children": [
              "IPY_MODEL_9b6c304e9f2644baadd7c52699f97f4b",
              "IPY_MODEL_7c763c143f9043b39a5af860c2d79d23",
              "IPY_MODEL_f66f034025314913a5bac66234e33df2"
            ],
            "layout": "IPY_MODEL_b047630437e845c1887c418669785c5c"
          }
        },
        "9b6c304e9f2644baadd7c52699f97f4b": {
          "model_module": "@jupyter-widgets/controls",
          "model_module_version": "1.5.0",
          "model_name": "TextareaModel",
          "state": {
            "_dom_classes": [],
            "_model_module": "@jupyter-widgets/controls",
            "_model_module_version": "1.5.0",
            "_model_name": "TextareaModel",
            "_view_count": null,
            "_view_module": "@jupyter-widgets/controls",
            "_view_module_version": "1.5.0",
            "_view_name": "TextareaView",
            "continuous_update": true,
            "description": "Question:",
            "description_tooltip": null,
            "disabled": false,
            "layout": "IPY_MODEL_baf12de9a3644fc1a7fdd32395a9efbd",
            "placeholder": "Input text",
            "rows": null,
            "style": "IPY_MODEL_d82d12f6a0a249e5a5750af18cbc020e",
            "value": "tell me about Peter"
          }
        },
        "b047630437e845c1887c418669785c5c": {
          "model_module": "@jupyter-widgets/base",
          "model_module_version": "1.2.0",
          "model_name": "LayoutModel",
          "state": {
            "_model_module": "@jupyter-widgets/base",
            "_model_module_version": "1.2.0",
            "_model_name": "LayoutModel",
            "_view_count": null,
            "_view_module": "@jupyter-widgets/base",
            "_view_module_version": "1.2.0",
            "_view_name": "LayoutView",
            "align_content": null,
            "align_items": null,
            "align_self": null,
            "border": null,
            "bottom": null,
            "display": null,
            "flex": null,
            "flex_flow": null,
            "grid_area": null,
            "grid_auto_columns": null,
            "grid_auto_flow": null,
            "grid_auto_rows": null,
            "grid_column": null,
            "grid_gap": null,
            "grid_row": null,
            "grid_template_areas": null,
            "grid_template_columns": null,
            "grid_template_rows": null,
            "height": null,
            "justify_content": null,
            "justify_items": null,
            "left": null,
            "margin": null,
            "max_height": null,
            "max_width": null,
            "min_height": null,
            "min_width": null,
            "object_fit": null,
            "object_position": null,
            "order": null,
            "overflow": null,
            "overflow_x": null,
            "overflow_y": null,
            "padding": null,
            "right": null,
            "top": null,
            "visibility": null,
            "width": null
          }
        },
        "baf12de9a3644fc1a7fdd32395a9efbd": {
          "model_module": "@jupyter-widgets/base",
          "model_module_version": "1.2.0",
          "model_name": "LayoutModel",
          "state": {
            "_model_module": "@jupyter-widgets/base",
            "_model_module_version": "1.2.0",
            "_model_name": "LayoutModel",
            "_view_count": null,
            "_view_module": "@jupyter-widgets/base",
            "_view_module_version": "1.2.0",
            "_view_name": "LayoutView",
            "align_content": null,
            "align_items": null,
            "align_self": null,
            "border": null,
            "bottom": null,
            "display": null,
            "flex": null,
            "flex_flow": null,
            "grid_area": null,
            "grid_auto_columns": null,
            "grid_auto_flow": null,
            "grid_auto_rows": null,
            "grid_column": null,
            "grid_gap": null,
            "grid_row": null,
            "grid_template_areas": null,
            "grid_template_columns": null,
            "grid_template_rows": null,
            "height": "50px",
            "justify_content": null,
            "justify_items": null,
            "left": null,
            "margin": null,
            "max_height": null,
            "max_width": null,
            "min_height": null,
            "min_width": null,
            "object_fit": null,
            "object_position": null,
            "order": null,
            "overflow": null,
            "overflow_x": null,
            "overflow_y": null,
            "padding": null,
            "right": null,
            "top": null,
            "visibility": null,
            "width": "900px"
          }
        },
        "d35477f4aa2d46009151e655c32ef9b2": {
          "model_module": "@jupyter-widgets/base",
          "model_module_version": "1.2.0",
          "model_name": "LayoutModel",
          "state": {
            "_model_module": "@jupyter-widgets/base",
            "_model_module_version": "1.2.0",
            "_model_name": "LayoutModel",
            "_view_count": null,
            "_view_module": "@jupyter-widgets/base",
            "_view_module_version": "1.2.0",
            "_view_name": "LayoutView",
            "align_content": null,
            "align_items": null,
            "align_self": null,
            "border": null,
            "bottom": null,
            "display": null,
            "flex": null,
            "flex_flow": null,
            "grid_area": null,
            "grid_auto_columns": null,
            "grid_auto_flow": null,
            "grid_auto_rows": null,
            "grid_column": null,
            "grid_gap": null,
            "grid_row": null,
            "grid_template_areas": null,
            "grid_template_columns": null,
            "grid_template_rows": null,
            "height": null,
            "justify_content": null,
            "justify_items": null,
            "left": null,
            "margin": "4px 0px 0px 90px",
            "max_height": null,
            "max_width": null,
            "min_height": null,
            "min_width": null,
            "object_fit": null,
            "object_position": null,
            "order": null,
            "overflow": null,
            "overflow_x": null,
            "overflow_y": null,
            "padding": null,
            "right": null,
            "top": null,
            "visibility": null,
            "width": null
          }
        },
        "d82d12f6a0a249e5a5750af18cbc020e": {
          "model_module": "@jupyter-widgets/controls",
          "model_module_version": "1.5.0",
          "model_name": "DescriptionStyleModel",
          "state": {
            "_model_module": "@jupyter-widgets/controls",
            "_model_module_version": "1.5.0",
            "_model_name": "DescriptionStyleModel",
            "_view_count": null,
            "_view_module": "@jupyter-widgets/base",
            "_view_module_version": "1.2.0",
            "_view_name": "StyleView",
            "description_width": ""
          }
        },
        "f66f034025314913a5bac66234e33df2": {
          "model_module": "@jupyter-widgets/output",
          "model_module_version": "1.0.0",
          "model_name": "OutputModel",
          "state": {
            "_dom_classes": [],
            "_model_module": "@jupyter-widgets/output",
            "_model_module_version": "1.0.0",
            "_model_name": "OutputModel",
            "_view_count": null,
            "_view_module": "@jupyter-widgets/output",
            "_view_module_version": "1.0.0",
            "_view_name": "OutputView",
            "layout": "IPY_MODEL_866eb75519134b6d8298aeda3b02c808",
            "msg_id": "",
            "outputs": [
              {
                "name": "stdout",
                "output_type": "stream",
                "text": [
                  "? tell me about Peter\n",
                  "peter is human. peter is mortal. peter is a professor. peter is a teacher\n"
                ]
              }
            ]
          }
        }
      }
    }
  },
  "nbformat": 4,
  "nbformat_minor": 0
}
